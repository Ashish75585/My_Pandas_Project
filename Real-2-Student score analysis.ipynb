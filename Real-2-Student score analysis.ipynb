{
 "cells": [
  {
   "cell_type": "code",
   "execution_count": 1,
   "id": "7e59d222-3989-4cf3-a9c1-e80bfceb837a",
   "metadata": {},
   "outputs": [],
   "source": [
    "import pandas as pd\n",
    "import numpy as np\n",
    "import matplotlib.pyplot as plt\n",
    "import seaborn as sns\n",
    "\n",
    "%matplotlib inline"
   ]
  },
  {
   "cell_type": "code",
   "execution_count": 2,
   "id": "f69c7e27-d7e2-44d0-aecf-585fdd37c4ea",
   "metadata": {},
   "outputs": [],
   "source": [
    "df = pd.read_csv('student_scores.csv')"
   ]
  },
  {
   "cell_type": "code",
   "execution_count": 3,
   "id": "9e7a6f55-61d1-42f8-bb97-c1c5c0dad732",
   "metadata": {},
   "outputs": [
    {
     "data": {
      "text/html": [
       "<div>\n",
       "<style scoped>\n",
       "    .dataframe tbody tr th:only-of-type {\n",
       "        vertical-align: middle;\n",
       "    }\n",
       "\n",
       "    .dataframe tbody tr th {\n",
       "        vertical-align: top;\n",
       "    }\n",
       "\n",
       "    .dataframe thead th {\n",
       "        text-align: right;\n",
       "    }\n",
       "</style>\n",
       "<table border=\"1\" class=\"dataframe\">\n",
       "  <thead>\n",
       "    <tr style=\"text-align: right;\">\n",
       "      <th></th>\n",
       "      <th>Unnamed: 0</th>\n",
       "      <th>Gender</th>\n",
       "      <th>EthnicGroup</th>\n",
       "      <th>ParentEduc</th>\n",
       "      <th>LunchType</th>\n",
       "      <th>TestPrep</th>\n",
       "      <th>ParentMaritalStatus</th>\n",
       "      <th>PracticeSport</th>\n",
       "      <th>IsFirstChild</th>\n",
       "      <th>NrSiblings</th>\n",
       "      <th>TransportMeans</th>\n",
       "      <th>WklyStudyHours</th>\n",
       "      <th>MathScore</th>\n",
       "      <th>ReadingScore</th>\n",
       "      <th>WritingScore</th>\n",
       "    </tr>\n",
       "  </thead>\n",
       "  <tbody>\n",
       "    <tr>\n",
       "      <th>0</th>\n",
       "      <td>0</td>\n",
       "      <td>female</td>\n",
       "      <td>NaN</td>\n",
       "      <td>bachelor's degree</td>\n",
       "      <td>standard</td>\n",
       "      <td>none</td>\n",
       "      <td>married</td>\n",
       "      <td>regularly</td>\n",
       "      <td>yes</td>\n",
       "      <td>3.0</td>\n",
       "      <td>school_bus</td>\n",
       "      <td>&lt; 5</td>\n",
       "      <td>71</td>\n",
       "      <td>71</td>\n",
       "      <td>74</td>\n",
       "    </tr>\n",
       "    <tr>\n",
       "      <th>1</th>\n",
       "      <td>1</td>\n",
       "      <td>female</td>\n",
       "      <td>group C</td>\n",
       "      <td>some college</td>\n",
       "      <td>standard</td>\n",
       "      <td>NaN</td>\n",
       "      <td>married</td>\n",
       "      <td>sometimes</td>\n",
       "      <td>yes</td>\n",
       "      <td>0.0</td>\n",
       "      <td>NaN</td>\n",
       "      <td>5 - 10</td>\n",
       "      <td>69</td>\n",
       "      <td>90</td>\n",
       "      <td>88</td>\n",
       "    </tr>\n",
       "    <tr>\n",
       "      <th>2</th>\n",
       "      <td>2</td>\n",
       "      <td>female</td>\n",
       "      <td>group B</td>\n",
       "      <td>master's degree</td>\n",
       "      <td>standard</td>\n",
       "      <td>none</td>\n",
       "      <td>single</td>\n",
       "      <td>sometimes</td>\n",
       "      <td>yes</td>\n",
       "      <td>4.0</td>\n",
       "      <td>school_bus</td>\n",
       "      <td>&lt; 5</td>\n",
       "      <td>87</td>\n",
       "      <td>93</td>\n",
       "      <td>91</td>\n",
       "    </tr>\n",
       "    <tr>\n",
       "      <th>3</th>\n",
       "      <td>3</td>\n",
       "      <td>male</td>\n",
       "      <td>group A</td>\n",
       "      <td>associate's degree</td>\n",
       "      <td>free/reduced</td>\n",
       "      <td>none</td>\n",
       "      <td>married</td>\n",
       "      <td>never</td>\n",
       "      <td>no</td>\n",
       "      <td>1.0</td>\n",
       "      <td>NaN</td>\n",
       "      <td>5 - 10</td>\n",
       "      <td>45</td>\n",
       "      <td>56</td>\n",
       "      <td>42</td>\n",
       "    </tr>\n",
       "    <tr>\n",
       "      <th>4</th>\n",
       "      <td>4</td>\n",
       "      <td>male</td>\n",
       "      <td>group C</td>\n",
       "      <td>some college</td>\n",
       "      <td>standard</td>\n",
       "      <td>none</td>\n",
       "      <td>married</td>\n",
       "      <td>sometimes</td>\n",
       "      <td>yes</td>\n",
       "      <td>0.0</td>\n",
       "      <td>school_bus</td>\n",
       "      <td>5 - 10</td>\n",
       "      <td>76</td>\n",
       "      <td>78</td>\n",
       "      <td>75</td>\n",
       "    </tr>\n",
       "  </tbody>\n",
       "</table>\n",
       "</div>"
      ],
      "text/plain": [
       "   Unnamed: 0  Gender EthnicGroup          ParentEduc     LunchType TestPrep  \\\n",
       "0           0  female         NaN   bachelor's degree      standard     none   \n",
       "1           1  female     group C        some college      standard      NaN   \n",
       "2           2  female     group B     master's degree      standard     none   \n",
       "3           3    male     group A  associate's degree  free/reduced     none   \n",
       "4           4    male     group C        some college      standard     none   \n",
       "\n",
       "  ParentMaritalStatus PracticeSport IsFirstChild  NrSiblings TransportMeans  \\\n",
       "0             married     regularly          yes         3.0     school_bus   \n",
       "1             married     sometimes          yes         0.0            NaN   \n",
       "2              single     sometimes          yes         4.0     school_bus   \n",
       "3             married         never           no         1.0            NaN   \n",
       "4             married     sometimes          yes         0.0     school_bus   \n",
       "\n",
       "  WklyStudyHours  MathScore  ReadingScore  WritingScore  \n",
       "0            < 5         71            71            74  \n",
       "1         5 - 10         69            90            88  \n",
       "2            < 5         87            93            91  \n",
       "3         5 - 10         45            56            42  \n",
       "4         5 - 10         76            78            75  "
      ]
     },
     "execution_count": 3,
     "metadata": {},
     "output_type": "execute_result"
    }
   ],
   "source": [
    "df.head()"
   ]
  },
  {
   "cell_type": "code",
   "execution_count": 4,
   "id": "246ca2a1-9c42-4b52-b9e9-37205cf89aeb",
   "metadata": {},
   "outputs": [
    {
     "name": "stdout",
     "output_type": "stream",
     "text": [
      "<class 'pandas.core.frame.DataFrame'>\n",
      "RangeIndex: 30641 entries, 0 to 30640\n",
      "Data columns (total 15 columns):\n",
      " #   Column               Non-Null Count  Dtype  \n",
      "---  ------               --------------  -----  \n",
      " 0   Unnamed: 0           30641 non-null  int64  \n",
      " 1   Gender               30641 non-null  object \n",
      " 2   EthnicGroup          28801 non-null  object \n",
      " 3   ParentEduc           28796 non-null  object \n",
      " 4   LunchType            30641 non-null  object \n",
      " 5   TestPrep             28811 non-null  object \n",
      " 6   ParentMaritalStatus  29451 non-null  object \n",
      " 7   PracticeSport        30010 non-null  object \n",
      " 8   IsFirstChild         29737 non-null  object \n",
      " 9   NrSiblings           29069 non-null  float64\n",
      " 10  TransportMeans       27507 non-null  object \n",
      " 11  WklyStudyHours       29686 non-null  object \n",
      " 12  MathScore            30641 non-null  int64  \n",
      " 13  ReadingScore         30641 non-null  int64  \n",
      " 14  WritingScore         30641 non-null  int64  \n",
      "dtypes: float64(1), int64(4), object(10)\n",
      "memory usage: 3.5+ MB\n"
     ]
    }
   ],
   "source": [
    "df.info()"
   ]
  },
  {
   "cell_type": "code",
   "execution_count": 6,
   "id": "357bfb7c-a0eb-42b6-9d18-d30974fb2ba4",
   "metadata": {},
   "outputs": [],
   "source": [
    "# dropping the unnecessary column.\n",
    "df.drop(['Unnamed: 0'], axis=1, inplace=True)"
   ]
  },
  {
   "cell_type": "code",
   "execution_count": 7,
   "id": "ddfa93a1-4ddf-4240-9cde-b8757c39c3c1",
   "metadata": {},
   "outputs": [
    {
     "data": {
      "text/html": [
       "<div>\n",
       "<style scoped>\n",
       "    .dataframe tbody tr th:only-of-type {\n",
       "        vertical-align: middle;\n",
       "    }\n",
       "\n",
       "    .dataframe tbody tr th {\n",
       "        vertical-align: top;\n",
       "    }\n",
       "\n",
       "    .dataframe thead th {\n",
       "        text-align: right;\n",
       "    }\n",
       "</style>\n",
       "<table border=\"1\" class=\"dataframe\">\n",
       "  <thead>\n",
       "    <tr style=\"text-align: right;\">\n",
       "      <th></th>\n",
       "      <th>Gender</th>\n",
       "      <th>EthnicGroup</th>\n",
       "      <th>ParentEduc</th>\n",
       "      <th>LunchType</th>\n",
       "      <th>TestPrep</th>\n",
       "      <th>ParentMaritalStatus</th>\n",
       "      <th>PracticeSport</th>\n",
       "      <th>IsFirstChild</th>\n",
       "      <th>NrSiblings</th>\n",
       "      <th>TransportMeans</th>\n",
       "      <th>WklyStudyHours</th>\n",
       "      <th>MathScore</th>\n",
       "      <th>ReadingScore</th>\n",
       "      <th>WritingScore</th>\n",
       "    </tr>\n",
       "  </thead>\n",
       "  <tbody>\n",
       "    <tr>\n",
       "      <th>0</th>\n",
       "      <td>female</td>\n",
       "      <td>NaN</td>\n",
       "      <td>bachelor's degree</td>\n",
       "      <td>standard</td>\n",
       "      <td>none</td>\n",
       "      <td>married</td>\n",
       "      <td>regularly</td>\n",
       "      <td>yes</td>\n",
       "      <td>3.0</td>\n",
       "      <td>school_bus</td>\n",
       "      <td>&lt; 5</td>\n",
       "      <td>71</td>\n",
       "      <td>71</td>\n",
       "      <td>74</td>\n",
       "    </tr>\n",
       "    <tr>\n",
       "      <th>1</th>\n",
       "      <td>female</td>\n",
       "      <td>group C</td>\n",
       "      <td>some college</td>\n",
       "      <td>standard</td>\n",
       "      <td>NaN</td>\n",
       "      <td>married</td>\n",
       "      <td>sometimes</td>\n",
       "      <td>yes</td>\n",
       "      <td>0.0</td>\n",
       "      <td>NaN</td>\n",
       "      <td>5 - 10</td>\n",
       "      <td>69</td>\n",
       "      <td>90</td>\n",
       "      <td>88</td>\n",
       "    </tr>\n",
       "    <tr>\n",
       "      <th>2</th>\n",
       "      <td>female</td>\n",
       "      <td>group B</td>\n",
       "      <td>master's degree</td>\n",
       "      <td>standard</td>\n",
       "      <td>none</td>\n",
       "      <td>single</td>\n",
       "      <td>sometimes</td>\n",
       "      <td>yes</td>\n",
       "      <td>4.0</td>\n",
       "      <td>school_bus</td>\n",
       "      <td>&lt; 5</td>\n",
       "      <td>87</td>\n",
       "      <td>93</td>\n",
       "      <td>91</td>\n",
       "    </tr>\n",
       "    <tr>\n",
       "      <th>3</th>\n",
       "      <td>male</td>\n",
       "      <td>group A</td>\n",
       "      <td>associate's degree</td>\n",
       "      <td>free/reduced</td>\n",
       "      <td>none</td>\n",
       "      <td>married</td>\n",
       "      <td>never</td>\n",
       "      <td>no</td>\n",
       "      <td>1.0</td>\n",
       "      <td>NaN</td>\n",
       "      <td>5 - 10</td>\n",
       "      <td>45</td>\n",
       "      <td>56</td>\n",
       "      <td>42</td>\n",
       "    </tr>\n",
       "    <tr>\n",
       "      <th>4</th>\n",
       "      <td>male</td>\n",
       "      <td>group C</td>\n",
       "      <td>some college</td>\n",
       "      <td>standard</td>\n",
       "      <td>none</td>\n",
       "      <td>married</td>\n",
       "      <td>sometimes</td>\n",
       "      <td>yes</td>\n",
       "      <td>0.0</td>\n",
       "      <td>school_bus</td>\n",
       "      <td>5 - 10</td>\n",
       "      <td>76</td>\n",
       "      <td>78</td>\n",
       "      <td>75</td>\n",
       "    </tr>\n",
       "  </tbody>\n",
       "</table>\n",
       "</div>"
      ],
      "text/plain": [
       "   Gender EthnicGroup          ParentEduc     LunchType TestPrep  \\\n",
       "0  female         NaN   bachelor's degree      standard     none   \n",
       "1  female     group C        some college      standard      NaN   \n",
       "2  female     group B     master's degree      standard     none   \n",
       "3    male     group A  associate's degree  free/reduced     none   \n",
       "4    male     group C        some college      standard     none   \n",
       "\n",
       "  ParentMaritalStatus PracticeSport IsFirstChild  NrSiblings TransportMeans  \\\n",
       "0             married     regularly          yes         3.0     school_bus   \n",
       "1             married     sometimes          yes         0.0            NaN   \n",
       "2              single     sometimes          yes         4.0     school_bus   \n",
       "3             married         never           no         1.0            NaN   \n",
       "4             married     sometimes          yes         0.0     school_bus   \n",
       "\n",
       "  WklyStudyHours  MathScore  ReadingScore  WritingScore  \n",
       "0            < 5         71            71            74  \n",
       "1         5 - 10         69            90            88  \n",
       "2            < 5         87            93            91  \n",
       "3         5 - 10         45            56            42  \n",
       "4         5 - 10         76            78            75  "
      ]
     },
     "execution_count": 7,
     "metadata": {},
     "output_type": "execute_result"
    }
   ],
   "source": [
    "df.head()"
   ]
  },
  {
   "cell_type": "code",
   "execution_count": 8,
   "id": "f0749741-8a2a-4479-96dc-ea2fb4532cfc",
   "metadata": {},
   "outputs": [
    {
     "data": {
      "text/html": [
       "<div>\n",
       "<style scoped>\n",
       "    .dataframe tbody tr th:only-of-type {\n",
       "        vertical-align: middle;\n",
       "    }\n",
       "\n",
       "    .dataframe tbody tr th {\n",
       "        vertical-align: top;\n",
       "    }\n",
       "\n",
       "    .dataframe thead th {\n",
       "        text-align: right;\n",
       "    }\n",
       "</style>\n",
       "<table border=\"1\" class=\"dataframe\">\n",
       "  <thead>\n",
       "    <tr style=\"text-align: right;\">\n",
       "      <th></th>\n",
       "      <th>NrSiblings</th>\n",
       "      <th>MathScore</th>\n",
       "      <th>ReadingScore</th>\n",
       "      <th>WritingScore</th>\n",
       "    </tr>\n",
       "  </thead>\n",
       "  <tbody>\n",
       "    <tr>\n",
       "      <th>count</th>\n",
       "      <td>29069.000000</td>\n",
       "      <td>30641.000000</td>\n",
       "      <td>30641.000000</td>\n",
       "      <td>30641.000000</td>\n",
       "    </tr>\n",
       "    <tr>\n",
       "      <th>mean</th>\n",
       "      <td>2.145894</td>\n",
       "      <td>66.558402</td>\n",
       "      <td>69.377533</td>\n",
       "      <td>68.418622</td>\n",
       "    </tr>\n",
       "    <tr>\n",
       "      <th>std</th>\n",
       "      <td>1.458242</td>\n",
       "      <td>15.361616</td>\n",
       "      <td>14.758952</td>\n",
       "      <td>15.443525</td>\n",
       "    </tr>\n",
       "    <tr>\n",
       "      <th>min</th>\n",
       "      <td>0.000000</td>\n",
       "      <td>0.000000</td>\n",
       "      <td>10.000000</td>\n",
       "      <td>4.000000</td>\n",
       "    </tr>\n",
       "    <tr>\n",
       "      <th>25%</th>\n",
       "      <td>1.000000</td>\n",
       "      <td>56.000000</td>\n",
       "      <td>59.000000</td>\n",
       "      <td>58.000000</td>\n",
       "    </tr>\n",
       "    <tr>\n",
       "      <th>50%</th>\n",
       "      <td>2.000000</td>\n",
       "      <td>67.000000</td>\n",
       "      <td>70.000000</td>\n",
       "      <td>69.000000</td>\n",
       "    </tr>\n",
       "    <tr>\n",
       "      <th>75%</th>\n",
       "      <td>3.000000</td>\n",
       "      <td>78.000000</td>\n",
       "      <td>80.000000</td>\n",
       "      <td>79.000000</td>\n",
       "    </tr>\n",
       "    <tr>\n",
       "      <th>max</th>\n",
       "      <td>7.000000</td>\n",
       "      <td>100.000000</td>\n",
       "      <td>100.000000</td>\n",
       "      <td>100.000000</td>\n",
       "    </tr>\n",
       "  </tbody>\n",
       "</table>\n",
       "</div>"
      ],
      "text/plain": [
       "         NrSiblings     MathScore  ReadingScore  WritingScore\n",
       "count  29069.000000  30641.000000  30641.000000  30641.000000\n",
       "mean       2.145894     66.558402     69.377533     68.418622\n",
       "std        1.458242     15.361616     14.758952     15.443525\n",
       "min        0.000000      0.000000     10.000000      4.000000\n",
       "25%        1.000000     56.000000     59.000000     58.000000\n",
       "50%        2.000000     67.000000     70.000000     69.000000\n",
       "75%        3.000000     78.000000     80.000000     79.000000\n",
       "max        7.000000    100.000000    100.000000    100.000000"
      ]
     },
     "execution_count": 8,
     "metadata": {},
     "output_type": "execute_result"
    }
   ],
   "source": [
    "df.describe()"
   ]
  },
  {
   "cell_type": "code",
   "execution_count": 9,
   "id": "9f731ffe-ac96-45eb-b20f-7d70968fcd3e",
   "metadata": {},
   "outputs": [
    {
     "data": {
      "text/plain": [
       "Gender                    0\n",
       "EthnicGroup            1840\n",
       "ParentEduc             1845\n",
       "LunchType                 0\n",
       "TestPrep               1830\n",
       "ParentMaritalStatus    1190\n",
       "PracticeSport           631\n",
       "IsFirstChild            904\n",
       "NrSiblings             1572\n",
       "TransportMeans         3134\n",
       "WklyStudyHours          955\n",
       "MathScore                 0\n",
       "ReadingScore              0\n",
       "WritingScore              0\n",
       "dtype: int64"
      ]
     },
     "execution_count": 9,
     "metadata": {},
     "output_type": "execute_result"
    }
   ],
   "source": [
    "# Checking for null values\n",
    "df.isnull().sum()"
   ]
  },
  {
   "cell_type": "markdown",
   "id": "7ac180fe-57cd-4881-a76a-92efb3f2939d",
   "metadata": {},
   "source": [
    "Our `three` main columns `MathScore`, `ReadingScore` and `WritingScore` don't have `null` values."
   ]
  },
  {
   "cell_type": "code",
   "execution_count": 15,
   "id": "20e24242-65a2-45ca-9db0-f395c890d658",
   "metadata": {},
   "outputs": [
    {
     "data": {
      "image/png": "[encoded data removed]",
      "text/plain": [
       "<Figure size 640x480 with 1 Axes>"
      ]
     },
     "metadata": {},
     "output_type": "display_data"
    }
   ],
   "source": [
    "# Analyzing the gender distribution.\n",
    "ax = sns.countplot(data=df, x='Gender')\n",
    "\n",
    "for bar in ax.containers:\n",
    "    ax.bar_label(bar)"
   ]
  },
  {
   "cell_type": "markdown",
   "id": "f787516a-335f-4fc0-9df2-ad9c8078b65a",
   "metadata": {},
   "source": [
    "*From the above chart, it is clear that the count of `female` students is `more` as compared to `male` students.*"
   ]
  },
  {
   "cell_type": "code",
   "execution_count": 16,
   "id": "8a42ec41-a063-45f1-8478-747482fa0745",
   "metadata": {},
   "outputs": [
    {
     "data": {
      "text/plain": [
       "Index(['Gender', 'EthnicGroup', 'ParentEduc', 'LunchType', 'TestPrep',\n",
       "       'ParentMaritalStatus', 'PracticeSport', 'IsFirstChild', 'NrSiblings',\n",
       "       'TransportMeans', 'WklyStudyHours', 'MathScore', 'ReadingScore',\n",
       "       'WritingScore'],\n",
       "      dtype='object')"
      ]
     },
     "execution_count": 16,
     "metadata": {},
     "output_type": "execute_result"
    }
   ],
   "source": [
    "# Analyzing the relation between, parents education and students score.\n",
    "df.columns"
   ]
  },
  {
   "cell_type": "code",
   "execution_count": 17,
   "id": "e61589ab-1c71-4fdd-89eb-56062d566b7a",
   "metadata": {},
   "outputs": [
    {
     "data": {
      "text/plain": [
       "array([\"bachelor's degree\", 'some college', \"master's degree\",\n",
       "       \"associate's degree\", 'high school', 'some high school', nan],\n",
       "      dtype=object)"
      ]
     },
     "execution_count": 17,
     "metadata": {},
     "output_type": "execute_result"
    }
   ],
   "source": [
    "df['ParentEduc'].unique()"
   ]
  },
  {
   "cell_type": "code",
   "execution_count": 18,
   "id": "21eb927f-cbae-4baa-88c4-d8f340849472",
   "metadata": {},
   "outputs": [],
   "source": [
    "gb = df.groupby('ParentEduc').agg({'MathScore': 'mean', 'ReadingScore': 'mean', 'WritingScore': 'mean'})"
   ]
  },
  {
   "cell_type": "code",
   "execution_count": 19,
   "id": "8362527e-8483-4859-886f-7fb8c5cedcf2",
   "metadata": {},
   "outputs": [
    {
     "data": {
      "text/html": [
       "<div>\n",
       "<style scoped>\n",
       "    .dataframe tbody tr th:only-of-type {\n",
       "        vertical-align: middle;\n",
       "    }\n",
       "\n",
       "    .dataframe tbody tr th {\n",
       "        vertical-align: top;\n",
       "    }\n",
       "\n",
       "    .dataframe thead th {\n",
       "        text-align: right;\n",
       "    }\n",
       "</style>\n",
       "<table border=\"1\" class=\"dataframe\">\n",
       "  <thead>\n",
       "    <tr style=\"text-align: right;\">\n",
       "      <th></th>\n",
       "      <th>MathScore</th>\n",
       "      <th>ReadingScore</th>\n",
       "      <th>WritingScore</th>\n",
       "    </tr>\n",
       "    <tr>\n",
       "      <th>ParentEduc</th>\n",
       "      <th></th>\n",
       "      <th></th>\n",
       "      <th></th>\n",
       "    </tr>\n",
       "  </thead>\n",
       "  <tbody>\n",
       "    <tr>\n",
       "      <th>associate's degree</th>\n",
       "      <td>68.365586</td>\n",
       "      <td>71.124324</td>\n",
       "      <td>70.299099</td>\n",
       "    </tr>\n",
       "    <tr>\n",
       "      <th>bachelor's degree</th>\n",
       "      <td>70.466627</td>\n",
       "      <td>73.062020</td>\n",
       "      <td>73.331069</td>\n",
       "    </tr>\n",
       "    <tr>\n",
       "      <th>high school</th>\n",
       "      <td>64.435731</td>\n",
       "      <td>67.213997</td>\n",
       "      <td>65.421136</td>\n",
       "    </tr>\n",
       "    <tr>\n",
       "      <th>master's degree</th>\n",
       "      <td>72.336134</td>\n",
       "      <td>75.832921</td>\n",
       "      <td>76.356896</td>\n",
       "    </tr>\n",
       "    <tr>\n",
       "      <th>some college</th>\n",
       "      <td>66.390472</td>\n",
       "      <td>69.179708</td>\n",
       "      <td>68.501432</td>\n",
       "    </tr>\n",
       "    <tr>\n",
       "      <th>some high school</th>\n",
       "      <td>62.584013</td>\n",
       "      <td>65.510785</td>\n",
       "      <td>63.632409</td>\n",
       "    </tr>\n",
       "  </tbody>\n",
       "</table>\n",
       "</div>"
      ],
      "text/plain": [
       "                    MathScore  ReadingScore  WritingScore\n",
       "ParentEduc                                               \n",
       "associate's degree  68.365586     71.124324     70.299099\n",
       "bachelor's degree   70.466627     73.062020     73.331069\n",
       "high school         64.435731     67.213997     65.421136\n",
       "master's degree     72.336134     75.832921     76.356896\n",
       "some college        66.390472     69.179708     68.501432\n",
       "some high school    62.584013     65.510785     63.632409"
      ]
     },
     "execution_count": 19,
     "metadata": {},
     "output_type": "execute_result"
    }
   ],
   "source": [
    "gb"
   ]
  },
  {
   "cell_type": "code",
   "execution_count": 23,
   "id": "4b469091-75d3-4eca-82a1-c1db5762f644",
   "metadata": {},
   "outputs": [
    {
     "data": {
      "text/plain": [
       "<Axes: ylabel='ParentEduc'>"
      ]
     },
     "execution_count": 23,
     "metadata": {},
     "output_type": "execute_result"
    },
    {
     "data": {
      "image/png": "[encoded data removed]",
      "text/plain": [
       "<Figure size 640x480 with 2 Axes>"
      ]
     },
     "metadata": {},
     "output_type": "display_data"
    }
   ],
   "source": [
    "# using heatmap to analyse.\n",
    "sns.heatmap(data=gb, annot=True)"
   ]
  },
  {
   "cell_type": "markdown",
   "id": "eff9aaff-6d33-4af0-b2ba-dc82b8106617",
   "metadata": {},
   "source": [
    "*Students whose parents are done higher education, are likely to score higher marks.*"
   ]
  },
  {
   "cell_type": "code",
   "execution_count": 25,
   "id": "a8c6c6ac-d7ba-4082-8572-d5106f02f7df",
   "metadata": {},
   "outputs": [],
   "source": [
    "# Analyzing the relation between, ParentMaritalStatus and students score.\n",
    "gb = df.groupby('ParentMaritalStatus').agg({'MathScore': 'mean', 'ReadingScore': 'mean', 'WritingScore': 'mean'})"
   ]
  },
  {
   "cell_type": "code",
   "execution_count": 26,
   "id": "04330ab1-b73e-438c-aef4-b04ab05483f4",
   "metadata": {},
   "outputs": [
    {
     "data": {
      "text/html": [
       "<div>\n",
       "<style scoped>\n",
       "    .dataframe tbody tr th:only-of-type {\n",
       "        vertical-align: middle;\n",
       "    }\n",
       "\n",
       "    .dataframe tbody tr th {\n",
       "        vertical-align: top;\n",
       "    }\n",
       "\n",
       "    .dataframe thead th {\n",
       "        text-align: right;\n",
       "    }\n",
       "</style>\n",
       "<table border=\"1\" class=\"dataframe\">\n",
       "  <thead>\n",
       "    <tr style=\"text-align: right;\">\n",
       "      <th></th>\n",
       "      <th>MathScore</th>\n",
       "      <th>ReadingScore</th>\n",
       "      <th>WritingScore</th>\n",
       "    </tr>\n",
       "    <tr>\n",
       "      <th>ParentMaritalStatus</th>\n",
       "      <th></th>\n",
       "      <th></th>\n",
       "      <th></th>\n",
       "    </tr>\n",
       "  </thead>\n",
       "  <tbody>\n",
       "    <tr>\n",
       "      <th>divorced</th>\n",
       "      <td>66.691197</td>\n",
       "      <td>69.655011</td>\n",
       "      <td>68.799146</td>\n",
       "    </tr>\n",
       "    <tr>\n",
       "      <th>married</th>\n",
       "      <td>66.657326</td>\n",
       "      <td>69.389575</td>\n",
       "      <td>68.420981</td>\n",
       "    </tr>\n",
       "    <tr>\n",
       "      <th>single</th>\n",
       "      <td>66.165704</td>\n",
       "      <td>69.157250</td>\n",
       "      <td>68.174440</td>\n",
       "    </tr>\n",
       "    <tr>\n",
       "      <th>widowed</th>\n",
       "      <td>67.368866</td>\n",
       "      <td>69.651438</td>\n",
       "      <td>68.563452</td>\n",
       "    </tr>\n",
       "  </tbody>\n",
       "</table>\n",
       "</div>"
      ],
      "text/plain": [
       "                     MathScore  ReadingScore  WritingScore\n",
       "ParentMaritalStatus                                       \n",
       "divorced             66.691197     69.655011     68.799146\n",
       "married              66.657326     69.389575     68.420981\n",
       "single               66.165704     69.157250     68.174440\n",
       "widowed              67.368866     69.651438     68.563452"
      ]
     },
     "execution_count": 26,
     "metadata": {},
     "output_type": "execute_result"
    }
   ],
   "source": [
    "gb"
   ]
  },
  {
   "cell_type": "code",
   "execution_count": 27,
   "id": "32789bd2-21d4-480f-b763-6888c124e965",
   "metadata": {},
   "outputs": [
    {
     "data": {
      "text/plain": [
       "<Axes: ylabel='ParentMaritalStatus'>"
      ]
     },
     "execution_count": 27,
     "metadata": {},
     "output_type": "execute_result"
    },
    {
     "data": {
      "image/png": "[encoded data removed]",
      "text/plain": [
       "<Figure size 640x480 with 2 Axes>"
      ]
     },
     "metadata": {},
     "output_type": "display_data"
    }
   ],
   "source": [
    "sns.heatmap(data=gb, annot=True)"
   ]
  },
  {
   "cell_type": "markdown",
   "id": "ec314d93-d846-4d6e-80c8-a8934bf6008c",
   "metadata": {},
   "source": [
    "*There is no any specific relationship between ParentMaritalStatus and student score*"
   ]
  },
  {
   "cell_type": "code",
   "execution_count": 28,
   "id": "a09ad9b2-316a-48cd-a6ca-f7dcb8db31af",
   "metadata": {},
   "outputs": [
    {
     "data": {
      "text/plain": [
       "Index(['Gender', 'EthnicGroup', 'ParentEduc', 'LunchType', 'TestPrep',\n",
       "       'ParentMaritalStatus', 'PracticeSport', 'IsFirstChild', 'NrSiblings',\n",
       "       'TransportMeans', 'WklyStudyHours', 'MathScore', 'ReadingScore',\n",
       "       'WritingScore'],\n",
       "      dtype='object')"
      ]
     },
     "execution_count": 28,
     "metadata": {},
     "output_type": "execute_result"
    }
   ],
   "source": [
    "df.columns"
   ]
  },
  {
   "cell_type": "code",
   "execution_count": 29,
   "id": "67307e29-3ccd-451f-b5f9-f0f592667975",
   "metadata": {},
   "outputs": [],
   "source": [
    "# Analyzing the relation between, WklyStudyHours and students score.\n",
    "gb = df.groupby('WklyStudyHours').agg({'MathScore': 'mean', 'ReadingScore': 'mean', 'WritingScore': 'mean'})"
   ]
  },
  {
   "cell_type": "code",
   "execution_count": 30,
   "id": "0c8a1fd2-9ccd-40f3-a056-a1a9e225118d",
   "metadata": {},
   "outputs": [
    {
     "data": {
      "text/html": [
       "<div>\n",
       "<style scoped>\n",
       "    .dataframe tbody tr th:only-of-type {\n",
       "        vertical-align: middle;\n",
       "    }\n",
       "\n",
       "    .dataframe tbody tr th {\n",
       "        vertical-align: top;\n",
       "    }\n",
       "\n",
       "    .dataframe thead th {\n",
       "        text-align: right;\n",
       "    }\n",
       "</style>\n",
       "<table border=\"1\" class=\"dataframe\">\n",
       "  <thead>\n",
       "    <tr style=\"text-align: right;\">\n",
       "      <th></th>\n",
       "      <th>MathScore</th>\n",
       "      <th>ReadingScore</th>\n",
       "      <th>WritingScore</th>\n",
       "    </tr>\n",
       "    <tr>\n",
       "      <th>WklyStudyHours</th>\n",
       "      <th></th>\n",
       "      <th></th>\n",
       "      <th></th>\n",
       "    </tr>\n",
       "  </thead>\n",
       "  <tbody>\n",
       "    <tr>\n",
       "      <th>5 - 10</th>\n",
       "      <td>66.870491</td>\n",
       "      <td>69.660532</td>\n",
       "      <td>68.636280</td>\n",
       "    </tr>\n",
       "    <tr>\n",
       "      <th>&lt; 5</th>\n",
       "      <td>64.580359</td>\n",
       "      <td>68.176135</td>\n",
       "      <td>67.090192</td>\n",
       "    </tr>\n",
       "    <tr>\n",
       "      <th>&gt; 10</th>\n",
       "      <td>68.696655</td>\n",
       "      <td>70.365436</td>\n",
       "      <td>69.777778</td>\n",
       "    </tr>\n",
       "  </tbody>\n",
       "</table>\n",
       "</div>"
      ],
      "text/plain": [
       "                MathScore  ReadingScore  WritingScore\n",
       "WklyStudyHours                                       \n",
       "5 - 10          66.870491     69.660532     68.636280\n",
       "< 5             64.580359     68.176135     67.090192\n",
       "> 10            68.696655     70.365436     69.777778"
      ]
     },
     "execution_count": 30,
     "metadata": {},
     "output_type": "execute_result"
    }
   ],
   "source": [
    "gb"
   ]
  },
  {
   "cell_type": "code",
   "execution_count": 32,
   "id": "d4a64990-c5cf-4c9b-9e06-52a27775df2c",
   "metadata": {},
   "outputs": [
    {
     "data": {
      "text/plain": [
       "<Axes: ylabel='WklyStudyHours'>"
      ]
     },
     "execution_count": 32,
     "metadata": {},
     "output_type": "execute_result"
    },
    {
     "data": {
      "image/png": "[encoded data removed]",
      "text/plain": [
       "<Figure size 640x480 with 2 Axes>"
      ]
     },
     "metadata": {},
     "output_type": "display_data"
    }
   ],
   "source": [
    "sns.heatmap(data=gb, annot=True, fmt=\".1f\")"
   ]
  },
  {
   "cell_type": "markdown",
   "id": "67ee1889-31a9-4d74-aeee-cc44d6ff756e",
   "metadata": {},
   "source": [
    "*Students studying for ling hours are likely to score higher marks*"
   ]
  },
  {
   "cell_type": "code",
   "execution_count": 33,
   "id": "0b0b1931-5d14-44d1-b349-9d542772be14",
   "metadata": {},
   "outputs": [
    {
     "data": {
      "text/plain": [
       "<Axes: xlabel='MathScore'>"
      ]
     },
     "execution_count": 33,
     "metadata": {},
     "output_type": "execute_result"
    },
    {
     "data": {
      "image/png": "[encoded data removed]",
      "text/plain": [
       "<Figure size 640x480 with 1 Axes>"
      ]
     },
     "metadata": {},
     "output_type": "display_data"
    }
   ],
   "source": [
    "# Checking the extreme values in MathsScores.\n",
    "sns.boxplot(data=df, x='MathScore')"
   ]
  },
  {
   "cell_type": "code",
   "execution_count": 34,
   "id": "d6a1d2d4-52e4-4614-b8f3-2d813db28667",
   "metadata": {},
   "outputs": [
    {
     "data": {
      "text/plain": [
       "<Axes: xlabel='ReadingScore'>"
      ]
     },
     "execution_count": 34,
     "metadata": {},
     "output_type": "execute_result"
    },
    {
     "data": {
      "image/png": "[encoded data removed]",
      "text/plain": [
       "<Figure size 640x480 with 1 Axes>"
      ]
     },
     "metadata": {},
     "output_type": "display_data"
    }
   ],
   "source": [
    "sns.boxplot(data=df, x='ReadingScore')"
   ]
  },
  {
   "cell_type": "code",
   "execution_count": 35,
   "id": "9d72cbc5-4b39-43d3-89c6-8613b3c4e2ab",
   "metadata": {},
   "outputs": [
    {
     "data": {
      "text/plain": [
       "<Axes: xlabel='WritingScore'>"
      ]
     },
     "execution_count": 35,
     "metadata": {},
     "output_type": "execute_result"
    },
    {
     "data": {
      "image/png": "[encoded data removed]",
      "text/plain": [
       "<Figure size 640x480 with 1 Axes>"
      ]
     },
     "metadata": {},
     "output_type": "display_data"
    }
   ],
   "source": [
    "sns.boxplot(data=df, x='WritingScore')"
   ]
  },
  {
   "cell_type": "code",
   "execution_count": 36,
   "id": "cffd7b23-6ab1-4692-89b3-58a8475fd95d",
   "metadata": {},
   "outputs": [
    {
     "data": {
      "text/plain": [
       "Index(['Gender', 'EthnicGroup', 'ParentEduc', 'LunchType', 'TestPrep',\n",
       "       'ParentMaritalStatus', 'PracticeSport', 'IsFirstChild', 'NrSiblings',\n",
       "       'TransportMeans', 'WklyStudyHours', 'MathScore', 'ReadingScore',\n",
       "       'WritingScore'],\n",
       "      dtype='object')"
      ]
     },
     "execution_count": 36,
     "metadata": {},
     "output_type": "execute_result"
    }
   ],
   "source": [
    "# Distributing the ethinic groups.\n",
    "df.columns"
   ]
  },
  {
   "cell_type": "code",
   "execution_count": 38,
   "id": "c2f56e6f-2aa5-4cac-8abd-8c7df7694d64",
   "metadata": {},
   "outputs": [
    {
     "data": {
      "text/plain": [
       "array([nan, 'group C', 'group B', 'group A', 'group D', 'group E'],\n",
       "      dtype=object)"
      ]
     },
     "execution_count": 38,
     "metadata": {},
     "output_type": "execute_result"
    }
   ],
   "source": [
    "df['EthnicGroup'].unique()"
   ]
  },
  {
   "cell_type": "markdown",
   "id": "6b996114-be9e-4263-a90f-96dd3f198de4",
   "metadata": {},
   "source": [
    "Since, we are going to plot the percentage distribution. Hence we will use `pichart`."
   ]
  },
  {
   "cell_type": "code",
   "execution_count": 45,
   "id": "cee98010-d9ae-4c8d-8670-ef0ae84cdde4",
   "metadata": {},
   "outputs": [],
   "source": [
    "groupA = df.loc[df['EthnicGroup'] == 'group A'].count()\n",
    "groupB= df.loc[df['EthnicGroup'] == 'group B'].count()\n",
    "groupC = df.loc[df['EthnicGroup'] == 'group C'].count()\n",
    "groupD = df.loc[df['EthnicGroup'] == 'group D'].count()\n",
    "groupE = df.loc[df['EthnicGroup'] == 'group E'].count()"
   ]
  },
  {
   "cell_type": "code",
   "execution_count": 51,
   "id": "42aff197-0b2d-47af-a7e3-daa4f29a1020",
   "metadata": {},
   "outputs": [],
   "source": [
    "mlist = [groupA['EthnicGroup'], groupB['EthnicGroup'], groupC['EthnicGroup'], groupD['EthnicGroup'], groupE['EthnicGroup']]\n",
    "labels = ['group A', 'group B', 'group C', 'group D', 'group E']"
   ]
  },
  {
   "cell_type": "code",
   "execution_count": 56,
   "id": "390a9bfe-d073-450e-99d7-436583fe810a",
   "metadata": {},
   "outputs": [
    {
     "data": {
      "text/plain": [
       "Text(0.5, 1.0, 'Distribution of Ethinic Groups')"
      ]
     },
     "execution_count": 56,
     "metadata": {},
     "output_type": "execute_result"
    },
    {
     "data": {
      "image/png": "[encoded data removed]",
      "text/plain": [
       "<Figure size 640x480 with 1 Axes>"
      ]
     },
     "metadata": {},
     "output_type": "display_data"
    }
   ],
   "source": [
    "plt.pie(mlist, labels=labels, autopct=\"%1.2f%%\")\n",
    "plt.title(\"Distribution of Ethinic Groups\")"
   ]
  },
  {
   "cell_type": "code",
   "execution_count": null,
   "id": "4d99a090-dcd0-45e1-999e-c764e7c752f3",
   "metadata": {},
   "outputs": [],
   "source": []
  }
 ],
 "metadata": {
  "kernelspec": {
   "display_name": "Python 3 (ipykernel)",
   "language": "python",
   "name": "python3"
  },
  "language_info": {
   "codemirror_mode": {
    "name": "ipython",
    "version": 3
   },
   "file_extension": ".py",
   "mimetype": "text/x-python",
   "name": "python",
   "nbconvert_exporter": "python",
   "pygments_lexer": "ipython3",
   "version": "3.11.7"
  }
 },
 "nbformat": 4,
 "nbformat_minor": 5
}
