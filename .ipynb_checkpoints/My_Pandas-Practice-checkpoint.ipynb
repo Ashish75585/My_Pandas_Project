{
 "cells": [
  {
   "cell_type": "code",
   "execution_count": null,
   "id": "ee7c4a3d-fec4-495b-a4d6-89c18f7589cd",
   "metadata": {},
   "outputs": [],
   "source": []
  }
 ],
 "metadata": {
  "kernelspec": {
   "display_name": "Python 3 (ipykernel)",
   "language": "python",
   "name": "python3"
  },
  "language_info": {
   "codemirror_mode": {
    "name": "ipython",
    "version": 3
   },
   "file_extension": ".py",
   "mimetype": "text/x-python",
   "name": "python",
   "nbconvert_exporter": "python",
   "pygments_lexer": "ipython3",
   "version": "3.11.7"
  }
 },
 "nbformat": 4,
 "nbformat_minor": 5
}
